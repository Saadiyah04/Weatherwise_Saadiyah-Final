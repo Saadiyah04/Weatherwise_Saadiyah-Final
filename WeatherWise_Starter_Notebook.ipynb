﻿{
 "cells": [
  {
   "cell_type": "markdown",
   "id": "2aad9fd5",
   "metadata": {},
   "source": [
    "# 🌦️ WeatherWise: Intelligent Weather Assistant\n",
    "Welcome to the WeatherWise Jupyter Notebook! This notebook allows you to run and test different components of the WeatherWise CLI weather assistant project."
   ]
  },
  {
   "cell_type": "code",
   "execution_count": null,
   "id": "31c92a3e",
   "metadata": {},
   "outputs": [],
   "source": [
    "# Import libraries\n",
    "import requests\n",
    "import matplotlib.pyplot as plt\n",
    "import pyinputplus as pyip\n",
    "import os"
   ]
  },
  {
   "cell_type": "markdown",
   "id": "34711e91",
   "metadata": {},
   "source": [
    "## 🔍 Fetch Weather Data Function\n",
    "This function gets the weather data from the wttr.in API for a given location and forecast range."
   ]
  },
  {
   "cell_type": "code",
   "execution_count": null,
   "id": "13eb352c",
   "metadata": {},
   "outputs": [],
   "source": [
    "BASE_URL = \"https://wttr.in\"\n",
    "\n",
    "def get_weather_data(location, forecast_days=5):\n",
    "    try:\n",
    "        url = f\"{BASE_URL}/{location}?format=j1\"\n",
    "        response = requests.get(url, timeout=10)\n",
    "        response.raise_for_status()\n",
    "        data = response.json()\n",
    "\n",
    "        if 'weather' not in data or 'current_condition' not in data:\n",
    "            print(\"⚠️ AI Notice: Incomplete data received. Try another city.\")\n",
    "            return None\n",
    "\n",
    "        forecast = data.get('weather', [])[:forecast_days]\n",
    "        current = data.get('current_condition', [{}])[0]\n",
    "\n",
    "        return {\n",
    "            'location': location,\n",
    "            'current': current,\n",
    "            'forecast': forecast\n",
    "        }\n",
    "    except Exception as e:\n",
    "        print(f\"🚨 Could not fetch data for {location}. Error: {e}\")\n",
    "        return None"
   ]
  },
  {
   "cell_type": "markdown",
   "id": "278199e7",
   "metadata": {},
   "source": [
    "## 📈 Plot Temperature Trends\n",
    "This function will visualize min and max temperatures over the forecasted days."
   ]
  },
  {
   "cell_type": "code",
   "execution_count": null,
   "id": "ed68bbd5",
   "metadata": {},
   "outputs": [],
   "source": [
    "def create_temperature_visualisation(weather_data):\n",
    "    dates = [day['date'] for day in weather_data['forecast']]\n",
    "    max_temps = [int(day['maxtempC']) for day in weather_data['forecast']]\n",
    "    min_temps = [int(day['mintempC']) for day in weather_data['forecast']]\n",
    "\n",
    "    plt.figure(figsize=(8, 4))\n",
    "    plt.plot(dates, max_temps, label='Max Temp (°C)', marker='o', color='orangered')\n",
    "    plt.plot(dates, min_temps, label='Min Temp (°C)', marker='o', color='skyblue')\n",
    "    plt.title(f\"📈 Temperature Trend: {weather_data['location'].title()}\")\n",
    "    plt.xlabel(\"Date\")\n",
    "    plt.ylabel(\"Temperature (°C)\")\n",
    "    plt.legend()\n",
    "    plt.grid(True)\n",
    "    plt.show()"
   ]
  },
  {
   "cell_type": "markdown",
   "id": "e5658b99",
   "metadata": {},
   "source": [
    "# 🤖 AI Prompting Log (Optional)\n",
    "This section summarizes the key prompts used during the development of the WeatherWise project.\n",
    "\n",
    "### 🔹 Summary of Prompts Used\n",
    "- *“Explain this WeatherWise code to me in detail for my lecturer.”*\n",
    "- *“Give me 15 Git commit messages based on the code above.”*\n",
    "- *“Write a 300-word reflection for the code above.”*\n",
    "- *“Generate a starter Jupyter Notebook for the WeatherWise project.”*\n",
    "- *“Create AI conversation summaries in conversation1.txt, conversation2.txt, etc.”*\n",
    "\n",
    "### 📂 Link to AI Conversation Files\n",
    "- If this notebook is used in a structured repo, related conversations may be saved under: `ai-conversations/`\n",
    "\n",
    "- Each file (e.g., `conversation1.txt`, `conversation2.txt`) contains a logged exchange showing iterative AI assistance used to build and improve features.\n",
    "\n",
    "### 🕒 Date of AI Interaction\n",
    "- Generated on: May 28, 2025"
   ]
  }
 ],
 "metadata": {},
 "nbformat": 4,
 "nbformat_minor": 5
}

